{
 "cells": [
  {
   "cell_type": "code",
   "execution_count": 5,
   "id": "bcec02d3-fefe-4873-92e6-4646bbbd572e",
   "metadata": {},
   "outputs": [],
   "source": [
    "import torch\n",
    "import time\n",
    "from transformers import pipeline\n",
    "import torch.nn.functional as F"
   ]
  },
  {
   "cell_type": "code",
   "execution_count": 6,
   "id": "95781ad1-4eab-498e-83be-425eaad0657d",
   "metadata": {},
   "outputs": [
    {
     "name": "stdout",
     "output_type": "stream",
     "text": [
      "Using device: xpu\n"
     ]
    },
    {
     "data": {
      "application/vnd.jupyter.widget-view+json": {
       "model_id": "a9df30da267c4423aa260749f7045c11",
       "version_major": 2,
       "version_minor": 0
      },
      "text/plain": [
       "config.json:   0%|          | 0.00/612 [00:00<?, ?B/s]"
      ]
     },
     "metadata": {},
     "output_type": "display_data"
    },
    {
     "data": {
      "application/vnd.jupyter.widget-view+json": {
       "model_id": "4630b10c2ff84a95a6227741b7979954",
       "version_major": 2,
       "version_minor": 0
      },
      "text/plain": [
       "model.safetensors:   0%|          | 0.00/90.9M [00:00<?, ?B/s]"
      ]
     },
     "metadata": {},
     "output_type": "display_data"
    },
    {
     "data": {
      "application/vnd.jupyter.widget-view+json": {
       "model_id": "003666a416444ad998e9f547d3dd1837",
       "version_major": 2,
       "version_minor": 0
      },
      "text/plain": [
       "tokenizer_config.json:   0%|          | 0.00/350 [00:00<?, ?B/s]"
      ]
     },
     "metadata": {},
     "output_type": "display_data"
    },
    {
     "data": {
      "application/vnd.jupyter.widget-view+json": {
       "model_id": "fc7e2b2ec1eb401697d2db04fbb27827",
       "version_major": 2,
       "version_minor": 0
      },
      "text/plain": [
       "vocab.txt: 0.00B [00:00, ?B/s]"
      ]
     },
     "metadata": {},
     "output_type": "display_data"
    },
    {
     "data": {
      "application/vnd.jupyter.widget-view+json": {
       "model_id": "1b4cacc88671499bb79bd60389addd7f",
       "version_major": 2,
       "version_minor": 0
      },
      "text/plain": [
       "tokenizer.json: 0.00B [00:00, ?B/s]"
      ]
     },
     "metadata": {},
     "output_type": "display_data"
    },
    {
     "data": {
      "application/vnd.jupyter.widget-view+json": {
       "model_id": "b589df8d17984053a6ca4e87ab876dd2",
       "version_major": 2,
       "version_minor": 0
      },
      "text/plain": [
       "special_tokens_map.json:   0%|          | 0.00/112 [00:00<?, ?B/s]"
      ]
     },
     "metadata": {},
     "output_type": "display_data"
    },
    {
     "name": "stderr",
     "output_type": "stream",
     "text": [
      "Device set to use xpu\n"
     ]
    }
   ],
   "source": [
    "# \"sentence-transformers/all-mpnet-base-v2\"\n",
    "model_id = \"sentence-transformers/all-MiniLM-L6-v2\"\n",
    "\n",
    "if torch.cuda.is_available():\n",
    "  device=\"cuda\"\n",
    "elif torch.xpu.is_available():\n",
    "  device=\"xpu\"\n",
    "else:\n",
    "  device=\"cpu\"\n",
    "\n",
    "print(\"Using device:\", device)\n",
    "\n",
    "extractor = pipeline(\"feature-extraction\", model=model_id, torch_dtype=torch.float16, device=device, return_dict=False)"
   ]
  },
  {
   "cell_type": "code",
   "execution_count": 7,
   "id": "bd8e0c2d-2709-4fa0-aba8-ceab1d3ee536",
   "metadata": {},
   "outputs": [],
   "source": [
    "sentences = [\"This is an example sentence\", \"Each sentence is converted\"]\n",
    "# sentences = [\"This is an example sentence\", \"This is an example sentence\"]\n",
    "\n",
    "# Mean Pooling - Take attention mask into account for correct averaging\n",
    "def mean_pooling(token_embeddings, attention_mask):\n",
    "    input_mask_expanded = ( attention_mask.unsqueeze(-1).expand(token_embeddings.size()).float() )\n",
    "    return torch.sum(token_embeddings * input_mask_expanded, 1) / torch.clamp(input_mask_expanded.sum(1), min=1e-9)"
   ]
  },
  {
   "cell_type": "code",
   "execution_count": 8,
   "id": "7ded2f83-489f-480d-a059-0d42c161def0",
   "metadata": {},
   "outputs": [],
   "source": [
    "with torch.inference_mode():\n",
    "    extractor.forward_time = 0\n",
    "    encoded_input = extractor.tokenizer(sentences, padding=True, truncation=True, return_tensors=\"pt\")\n",
    "    model_output = extractor(sentences, return_tensors=True, batch_size=2)\n",
    "    sentence_embeddings_1 = F.normalize( mean_pooling(model_output[0], encoded_input[\"attention_mask\"][0]) )\n",
    "    sentence_embeddings_2 = F.normalize( mean_pooling(model_output[1], encoded_input[\"attention_mask\"][1]) )\n",
    "    score = torch.inner(sentence_embeddings_1, sentence_embeddings_2)"
   ]
  },
  {
   "cell_type": "code",
   "execution_count": 9,
   "id": "ac410d98-7658-49a3-a4d1-121eb75c9f4f",
   "metadata": {},
   "outputs": [
    {
     "name": "stdout",
     "output_type": "stream",
     "text": [
      "tensor([[0.4046]])\n"
     ]
    }
   ],
   "source": [
    "print(score)"
   ]
  },
  {
   "cell_type": "code",
   "execution_count": null,
   "id": "cc5f3276-5a6c-46dc-90a4-928b6694672c",
   "metadata": {},
   "outputs": [],
   "source": []
  }
 ],
 "metadata": {
  "kernelspec": {
   "display_name": "seshu_env",
   "language": "python",
   "name": "seshu_env"
  },
  "language_info": {
   "codemirror_mode": {
    "name": "ipython",
    "version": 3
   },
   "file_extension": ".py",
   "mimetype": "text/x-python",
   "name": "python",
   "nbconvert_exporter": "python",
   "pygments_lexer": "ipython3",
   "version": "3.12.11"
  }
 },
 "nbformat": 4,
 "nbformat_minor": 5
}
